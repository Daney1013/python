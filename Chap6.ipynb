{
  "nbformat": 4,
  "nbformat_minor": 0,
  "metadata": {
    "colab": {
      "name": "Chap6.ipynb",
      "provenance": [],
      "collapsed_sections": [],
      "authorship_tag": "ABX9TyO53iZWiyaKbw9+lONLlXtN",
      "include_colab_link": true
    },
    "kernelspec": {
      "name": "python3",
      "display_name": "Python 3"
    },
    "language_info": {
      "name": "python"
    }
  },
  "cells": [
    {
      "cell_type": "markdown",
      "metadata": {
        "id": "view-in-github",
        "colab_type": "text"
      },
      "source": [
        "<a href=\"https://colab.research.google.com/github/Daney1013/python/blob/main/Chap6.ipynb\" target=\"_parent\"><img src=\"https://colab.research.google.com/assets/colab-badge.svg\" alt=\"Open In Colab\"/></a>"
      ]
    },
    {
      "cell_type": "markdown",
      "source": [
        "#Chap6 檔案處理\n",
        "os套件：用來處理文件與目錄，與檔案讀寫"
      ],
      "metadata": {
        "id": "xo_XGctN7xw8"
      }
    },
    {
      "cell_type": "code",
      "source": [
        "import os\n",
        "os.getcwd() #回傳目前的工作目錄"
      ],
      "metadata": {
        "colab": {
          "base_uri": "https://localhost:8080/",
          "height": 36
        },
        "id": "Bk6XpZz573kK",
        "outputId": "e9c5ff1b-58fd-4820-f506-94fb9a5631e5"
      },
      "execution_count": null,
      "outputs": [
        {
          "output_type": "execute_result",
          "data": {
            "text/plain": [
              "'/content'"
            ],
            "application/vnd.google.colaboratory.intrinsic+json": {
              "type": "string"
            }
          },
          "metadata": {},
          "execution_count": 3
        }
      ]
    },
    {
      "cell_type": "code",
      "source": [
        "os.listdir(\".\") #列出目錄下所有的檔案"
      ],
      "metadata": {
        "colab": {
          "base_uri": "https://localhost:8080/"
        },
        "id": "tiFyxFCU9n54",
        "outputId": "358963aa-4f71-4a6b-e4d3-9157a6c39f21"
      },
      "execution_count": null,
      "outputs": [
        {
          "output_type": "execute_result",
          "data": {
            "text/plain": [
              "['.config', 'sample_data']"
            ]
          },
          "metadata": {},
          "execution_count": 4
        }
      ]
    },
    {
      "cell_type": "code",
      "source": [
        "os.makedirs(\"test\")#新增test目錄\n",
        "os.listdir(\".\")"
      ],
      "metadata": {
        "colab": {
          "base_uri": "https://localhost:8080/"
        },
        "id": "nE6SaecD93Xr",
        "outputId": "04738e3f-3378-42ce-b57a-f95678024164"
      },
      "execution_count": null,
      "outputs": [
        {
          "output_type": "execute_result",
          "data": {
            "text/plain": [
              "['.config', 'test', 'sample_data']"
            ]
          },
          "metadata": {},
          "execution_count": 5
        }
      ]
    },
    {
      "cell_type": "code",
      "source": [
        "os.rmdir(\"test\") #移除test目錄\n",
        "os.listdir(\".\")"
      ],
      "metadata": {
        "colab": {
          "base_uri": "https://localhost:8080/"
        },
        "id": "IsXEX4I8-GHe",
        "outputId": "7548ebae-4e28-49be-ac20-9c682ebe4f20"
      },
      "execution_count": null,
      "outputs": [
        {
          "output_type": "execute_result",
          "data": {
            "text/plain": [
              "['.config', 'sample_data']"
            ]
          },
          "metadata": {},
          "execution_count": 6
        }
      ]
    },
    {
      "cell_type": "markdown",
      "source": [
        "###檔案處理\n",
        "#os套件有自己處理檔案的函式os.open\n",
        "#python也有自己處理檔案的函式open(比較常用)\n",
        "#·w =可寫(預設建立檔案) 若檔案存在則會清除舊檔案\n",
        "#·w+ = 可寫可讀(預設建立檔案) 若檔案存在則會清除舊檔案\n",
        "#·r = 可讀\n",
        "#·r+ = 可寫可讀 但寫入資料指向開頭\n",
        "#·a = 可寫不能讀 寫入資料指向尾端\n",
        "#·a+ = 可寫可讀 寫入資料指向尾端\n",
        "#·b = 轉為2進位文件\n",
        "#·ab+ = 2進位文件的讀寫 寫入資料指向尾端"
      ],
      "metadata": {
        "id": "4Yc9h2_-_7Lm"
      }
    },
    {
      "cell_type": "code",
      "source": [
        "#新增檔案\n",
        "a=open(\"a.txt\",\"w\")\n",
        "a.write(\"This is a line1\")\n",
        "a.write(\"This is a line2\\n\")\n",
        "a.write(\"This is a line3\\n\")\n",
        "a.close()"
      ],
      "metadata": {
        "id": "7TKz01dfAADL"
      },
      "execution_count": null,
      "outputs": []
    },
    {
      "cell_type": "code",
      "source": [
        "os.path.isfile(\"a.txt\")"
      ],
      "metadata": {
        "colab": {
          "base_uri": "https://localhost:8080/"
        },
        "id": "OIOQmj86Djrd",
        "outputId": "aced9204-74a1-4fed-885f-9008da0c2d41"
      },
      "execution_count": null,
      "outputs": [
        {
          "output_type": "execute_result",
          "data": {
            "text/plain": [
              "True"
            ]
          },
          "metadata": {},
          "execution_count": 9
        }
      ]
    },
    {
      "cell_type": "code",
      "source": [
        "a=open(\"a.txt\",\"r\")\n",
        "print(a.readlines())\n",
        "a.close()"
      ],
      "metadata": {
        "colab": {
          "base_uri": "https://localhost:8080/"
        },
        "id": "_LyJhnraDmNU",
        "outputId": "0dea7e82-ec44-43fa-8593-2324bfe31f19"
      },
      "execution_count": null,
      "outputs": [
        {
          "output_type": "stream",
          "name": "stdout",
          "text": [
            "['This is a line1This is a line2\\n', 'This is a line3\\n']\n"
          ]
        }
      ]
    },
    {
      "cell_type": "code",
      "source": [
        "if os.path.isfile(\"a.txt\"):\n",
        "    a=open(\"a.txt\",\"r\")\n",
        "    print(a.readlines())\n",
        "    a.close()\n",
        "else:\n",
        "  print(\"檔案不存在\")"
      ],
      "metadata": {
        "colab": {
          "base_uri": "https://localhost:8080/"
        },
        "id": "nllLQJqCEPaU",
        "outputId": "1ad6e297-fca2-4197-d06a-ad1d8ca55264"
      },
      "execution_count": null,
      "outputs": [
        {
          "output_type": "stream",
          "name": "stdout",
          "text": [
            "['This is a line1This is a line2\\n', 'This is a line3\\n']\n"
          ]
        }
      ]
    },
    {
      "cell_type": "markdown",
      "source": [
        "附加檔案"
      ],
      "metadata": {
        "id": "Nt_rHjTXIWts"
      }
    },
    {
      "cell_type": "code",
      "source": [
        "a=open(\"a.txt\", \"a\") #參數\"a\"會把寫入資訊附加在檔案尾巴\n",
        "a.write(\"This is line4\\n\")\n",
        "a.close()"
      ],
      "metadata": {
        "id": "diVaBaVZIXU7"
      },
      "execution_count": null,
      "outputs": []
    },
    {
      "cell_type": "code",
      "source": [
        "a=open(\"a.txt\",\"r\")\n",
        "print(a.readlines())\n",
        "a.close()"
      ],
      "metadata": {
        "colab": {
          "base_uri": "https://localhost:8080/"
        },
        "id": "hF8JUh58JipE",
        "outputId": "b6fd1521-5313-41c4-b835-10d339f8e1f1"
      },
      "execution_count": null,
      "outputs": [
        {
          "output_type": "stream",
          "name": "stdout",
          "text": [
            "['This is a line1This is a line2\\n', 'This is a line3\\n', 'This is test4\\n', 'This is line4\\n']\n"
          ]
        }
      ]
    },
    {
      "cell_type": "code",
      "source": [
        "a=open(\"a.txt\",\"r\") #參數\"r\"會把寫入資訊附加在檔案開頭\n",
        "a.write(\"This is line5\\n\")\n",
        "a.close()"
      ],
      "metadata": {
        "id": "GmhwYBi3JnCF"
      },
      "execution_count": null,
      "outputs": []
    },
    {
      "cell_type": "code",
      "source": [
        "a=open(\"a.txt\",\"r\")\n",
        "print(a.readlines())\n",
        "a.close()"
      ],
      "metadata": {
        "colab": {
          "base_uri": "https://localhost:8080/"
        },
        "id": "AaIusxJXJ1UJ",
        "outputId": "e911d079-1f2a-4091-8a64-a089b08ab4f3"
      },
      "execution_count": null,
      "outputs": [
        {
          "output_type": "stream",
          "name": "stdout",
          "text": [
            "['This is a line1This is a line2\\n', 'This is a line3\\n', 'This is test4\\n', 'This is line4\\n']\n"
          ]
        }
      ]
    }
  ]
}