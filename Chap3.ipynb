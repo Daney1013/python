{
  "nbformat": 4,
  "nbformat_minor": 0,
  "metadata": {
    "colab": {
      "name": "Chap3.ipynb",
      "provenance": [],
      "collapsed_sections": [],
      "authorship_tag": "ABX9TyPjCnnMU7isPXjvopDLLPCh",
      "include_colab_link": true
    },
    "kernelspec": {
      "name": "python3",
      "display_name": "Python 3"
    },
    "language_info": {
      "name": "python"
    }
  },
  "cells": [
    {
      "cell_type": "markdown",
      "metadata": {
        "id": "view-in-github",
        "colab_type": "text"
      },
      "source": [
        "<a href=\"https://colab.research.google.com/github/Daney1013/python/blob/main/Chap3.ipynb\" target=\"_parent\"><img src=\"https://colab.research.google.com/assets/colab-badge.svg\" alt=\"Open In Colab\"/></a>"
      ]
    },
    {
      "cell_type": "markdown",
      "source": [
        "# Python物件\n",
        "# List[串列] Tuple(元組) Dictionary{字典} Sets{集合}\n",
        "# List[串列]\n",
        "## 使用中括號[]包裹元素"
      ],
      "metadata": {
        "id": "UxXrV6OF7jci"
      }
    },
    {
      "cell_type": "code",
      "source": [
        "#List[串列]\n",
        "score = [90, 70, 80, 88, 95]\n",
        "print(score[0])\n",
        "print(score[1])\n",
        "print(score[4])\n",
        "print(score[-1])#-1從最後面數過來第一個"
      ],
      "metadata": {
        "colab": {
          "base_uri": "https://localhost:8080/"
        },
        "id": "BR76aVDk7hAT",
        "outputId": "c2948b90-77c6-4993-a070-67a73e662916"
      },
      "execution_count": null,
      "outputs": [
        {
          "output_type": "stream",
          "name": "stdout",
          "text": [
            "90\n",
            "70\n",
            "95\n",
            "95\n"
          ]
        }
      ]
    },
    {
      "cell_type": "code",
      "source": [
        "score=[90,70,80,88,95]\n",
        "print(score[0:3])\n",
        "print(score[:3])\n",
        "print(score[3:])\n",
        "print(score[:])"
      ],
      "metadata": {
        "colab": {
          "base_uri": "https://localhost:8080/"
        },
        "id": "b_GbGYWQBkn7",
        "outputId": "e4019d0c-bb29-421c-9c3d-b24b07a69768"
      },
      "execution_count": null,
      "outputs": [
        {
          "output_type": "stream",
          "name": "stdout",
          "text": [
            "[90, 70, 80]\n",
            "[90, 70, 80]\n",
            "[88, 95]\n",
            "[90, 70, 80, 88, 95]\n"
          ]
        }
      ]
    },
    {
      "cell_type": "code",
      "source": [
        "score=[90,70,80,88,95]\n",
        "print(score[0:5:2])\n",
        "print(score[::2])\n",
        "print(score[4:0:-1])\n",
        "print(score[0:4:-1])"
      ],
      "metadata": {
        "colab": {
          "base_uri": "https://localhost:8080/"
        },
        "id": "V8Zc0hFXD6vp",
        "outputId": "4f65d79a-2426-470f-9bec-1531cfb43c42"
      },
      "execution_count": null,
      "outputs": [
        {
          "output_type": "stream",
          "name": "stdout",
          "text": [
            "[90, 80, 95]\n",
            "[90, 80, 95]\n",
            "[95, 88, 80, 70]\n",
            "[]\n"
          ]
        }
      ]
    },
    {
      "cell_type": "code",
      "source": [
        "astr=\"abcdefghijklmnopqrstuvwxyz\"\n",
        "print(astr[0])\n",
        "print(astr[-1])\n",
        "print(astr[5:20])\n",
        "print(astr[5:20:3])"
      ],
      "metadata": {
        "colab": {
          "base_uri": "https://localhost:8080/"
        },
        "id": "f1Ffvjp0FqtC",
        "outputId": "b16d00ca-6458-4163-9018-49eaea80b829"
      },
      "execution_count": null,
      "outputs": [
        {
          "output_type": "stream",
          "name": "stdout",
          "text": [
            "a\n",
            "z\n",
            "fghijklmnopqrst\n",
            "filor\n"
          ]
        }
      ]
    },
    {
      "cell_type": "code",
      "source": [
        "print(astr[0])\n",
        "print(astr[-1])\n",
        "print(astr[5:20])\n",
        "print(astr[5:20:3])\n",
        "print(astr[20:5:-1])\n",
        "print(astr[20:5:-3])\n",
        "print(astr[::-3])\n",
        "print(astr[3:15:-1])"
      ],
      "metadata": {
        "colab": {
          "base_uri": "https://localhost:8080/"
        },
        "id": "CEJSR8kmICUf",
        "outputId": "11f6a1fd-42f7-42ce-e3d6-112a2359dddd"
      },
      "execution_count": null,
      "outputs": [
        {
          "output_type": "stream",
          "name": "stdout",
          "text": [
            "a\n",
            "z\n",
            "fghijklmnopqrst\n",
            "filor\n",
            "utsrqponmlkjihg\n",
            "uroli\n",
            "zwtqnkheb\n",
            "\n"
          ]
        }
      ]
    },
    {
      "cell_type": "code",
      "source": [
        "mylist=[] #建立一個空串列\n",
        "print(mylist) #印一個空陣列\n",
        "mylist2 = ['python','javascript','C#'] #建立一個空串列,把資料放進去\n",
        "print(mylist2) #印陣列內容\n",
        "print(mylist2[0]) #印指定陣列內容"
      ],
      "metadata": {
        "colab": {
          "base_uri": "https://localhost:8080/"
        },
        "id": "_6Ype9ZD8ox-",
        "outputId": "729a0a23-d6d0-43af-aeb1-c065141c8f99"
      },
      "execution_count": null,
      "outputs": [
        {
          "output_type": "stream",
          "name": "stdout",
          "text": [
            "[]\n",
            "['python', 'javascript', 'C#']\n",
            "python\n"
          ]
        }
      ]
    },
    {
      "cell_type": "code",
      "source": [
        "my_list2=['python','javascript','c#']\n",
        "print(len(my_list2))\n",
        "my_list2.append('java') #附加在最後\n",
        "print(my_list2)\n",
        "my_list2.remove('java') #刪除\n",
        "print(my_list2)\n",
        "my_list2.insert(1,'java') #插入到某個位置\n",
        "print(my_list2)"
      ],
      "metadata": {
        "colab": {
          "base_uri": "https://localhost:8080/"
        },
        "id": "3RCUjk8s_UHW",
        "outputId": "1841ee36-ae3e-424e-934c-2c951eb001eb"
      },
      "execution_count": null,
      "outputs": [
        {
          "output_type": "stream",
          "name": "stdout",
          "text": [
            "3\n",
            "['python', 'javascript', 'c#', 'java']\n",
            "['python', 'javascript', 'c#']\n",
            "['python', 'java', 'javascript', 'c#']\n"
          ]
        }
      ]
    },
    {
      "cell_type": "code",
      "source": [
        ""
      ],
      "metadata": {
        "id": "MwijeGSCBayO"
      },
      "execution_count": null,
      "outputs": []
    }
  ]
}