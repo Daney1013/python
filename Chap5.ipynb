{
  "nbformat": 4,
  "nbformat_minor": 0,
  "metadata": {
    "colab": {
      "name": "Chap5.ipynb",
      "provenance": [],
      "collapsed_sections": [],
      "authorship_tag": "ABX9TyN8DSvLedcCEGKqo3BiN1gn",
      "include_colab_link": true
    },
    "kernelspec": {
      "name": "python3",
      "display_name": "Python 3"
    },
    "language_info": {
      "name": "python"
    }
  },
  "cells": [
    {
      "cell_type": "markdown",
      "metadata": {
        "id": "view-in-github",
        "colab_type": "text"
      },
      "source": [
        "<a href=\"https://colab.research.google.com/github/Daney1013/python/blob/main/Chap5.ipynb\" target=\"_parent\"><img src=\"https://colab.research.google.com/assets/colab-badge.svg\" alt=\"Open In Colab\"/></a>"
      ]
    },
    {
      "cell_type": "markdown",
      "source": [
        "#**函式(數)**\n",
        "# ·獨立的一組程式碼,可以重複使用\n",
        "# ·通常可以有0-多個輸入參數, 0-1個輸出\n",
        "# ·函式輸入參數可以有預設值"
      ],
      "metadata": {
        "id": "YqZ_Mqtd6eoI"
      }
    },
    {
      "cell_type": "code",
      "execution_count": null,
      "metadata": {
        "colab": {
          "base_uri": "https://localhost:8080/"
        },
        "id": "JPx069yG6RDR",
        "outputId": "64eecada-ffad-4585-8b58-703b4db4a189"
      },
      "outputs": [
        {
          "output_type": "stream",
          "name": "stdout",
          "text": [
            "請輸入圓的半徑：5\n",
            "圓的面積為： 78.53981633974483\n"
          ]
        }
      ],
      "source": [
        "#傳統的程式寫法\n",
        "import math\n",
        "radius = eval(input(\"請輸入圓的半徑：\")) #把輸入的字串變成數學計算型態\n",
        "area=radius * radius * math.pi\n",
        "print(\"圓的面積為：\", area)"
      ]
    },
    {
      "cell_type": "code",
      "source": [
        "import math\n",
        "def circle_area(radius):\n",
        "    area = radius * radius * math.pi\n",
        "    return area\n",
        "\n",
        "print(circle_area(10))\n",
        "print(circle_area(5))"
      ],
      "metadata": {
        "colab": {
          "base_uri": "https://localhost:8080/"
        },
        "id": "FzP8DEBz8hBq",
        "outputId": "8ed96157-4999-4656-a833-9399711ca50f"
      },
      "execution_count": null,
      "outputs": [
        {
          "output_type": "stream",
          "name": "stdout",
          "text": [
            "314.1592653589793\n",
            "78.53981633974483\n"
          ]
        }
      ]
    },
    {
      "cell_type": "code",
      "source": [
        ""
      ],
      "metadata": {
        "id": "dHJDeNnJHH8s"
      },
      "execution_count": null,
      "outputs": []
    }
  ]
}