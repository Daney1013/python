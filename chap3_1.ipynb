{
  "nbformat": 4,
  "nbformat_minor": 0,
  "metadata": {
    "colab": {
      "name": "chap3-1.ipynb",
      "provenance": [],
      "collapsed_sections": [],
      "authorship_tag": "ABX9TyPYz2tHZ1kJOmXNb8P9A9LT",
      "include_colab_link": true
    },
    "kernelspec": {
      "name": "python3",
      "display_name": "Python 3"
    },
    "language_info": {
      "name": "python"
    }
  },
  "cells": [
    {
      "cell_type": "markdown",
      "metadata": {
        "id": "view-in-github",
        "colab_type": "text"
      },
      "source": [
        "<a href=\"https://colab.research.google.com/github/Daney1013/python/blob/main/chap3_1.ipynb\" target=\"_parent\"><img src=\"https://colab.research.google.com/assets/colab-badge.svg\" alt=\"Open In Colab\"/></a>"
      ]
    },
    {
      "cell_type": "markdown",
      "source": [
        "## Tuple (元組)"
      ],
      "metadata": {
        "id": "mBtziHmtfnj8"
      }
    },
    {
      "cell_type": "markdown",
      "source": [
        "tuple(元組)可視為不可改變的串列，tuple跟list很像，但是我們不能新增、刪除或更新tuple的元素。tuple的好處有：\n",
        "\n",
        "### 1.佔用較少空間\n",
        "### 2.可當作dictionary(字典)的鍵值\n",
        "### 3.可當作函式引數"
      ],
      "metadata": {
        "id": "p1vBmdTUf3AI"
      }
    },
    {
      "cell_type": "code",
      "execution_count": null,
      "metadata": {
        "colab": {
          "base_uri": "https://localhost:8080/"
        },
        "id": "t87Q5vfIfh9_",
        "outputId": "621ec64e-36f6-475b-f62f-baa8a6c71e2d"
      },
      "outputs": [
        {
          "output_type": "stream",
          "name": "stdout",
          "text": [
            "('python', 'js', 'SQL')\n",
            "('go', 'c#', 'vb')\n",
            "go\n"
          ]
        }
      ],
      "source": [
        "a_tuple=('python', 'js', 'SQL')\n",
        "print(a_tuple)\n",
        "b_list=['go', 'c#', 'vb']\n",
        "b_tuple=tuple(b_list)\n",
        "print(b_tuple)\n",
        "print(b_tuple[0])"
      ]
    },
    {
      "cell_type": "code",
      "source": [
        "a_tuple=('python', 'js', 'SQL')\n",
        "print(a_tuple)\n",
        "b_list=['go', 'c#', 'vb']\n",
        "b_tuple=tuple(b_list)\n",
        "print(b_tuple)"
      ],
      "metadata": {
        "colab": {
          "base_uri": "https://localhost:8080/"
        },
        "id": "Yl2UD3cEQQQ6",
        "outputId": "3c0020bc-dde3-42e0-ceb1-0eb9e004c534"
      },
      "execution_count": null,
      "outputs": [
        {
          "output_type": "stream",
          "name": "stdout",
          "text": [
            "('python', 'js', 'SQL')\n",
            "('go', 'c#', 'vb')\n"
          ]
        }
      ]
    },
    {
      "cell_type": "code",
      "source": [
        "a_tuple=('python', 'js', 'SQL')\n",
        "print(a_tuple)\n",
        "b_list=['go', 'c#', 'vb']\n",
        "b_tuple=tuple(b_list)\n",
        "print(b_tuple)\n",
        "print(b_tuple[1])"
      ],
      "metadata": {
        "colab": {
          "base_uri": "https://localhost:8080/"
        },
        "id": "9bkGMvCXP3f1",
        "outputId": "dd0202de-6214-4481-c9d3-5361ec1d4eeb"
      },
      "execution_count": null,
      "outputs": [
        {
          "output_type": "stream",
          "name": "stdout",
          "text": [
            "('python', 'js', 'SQL')\n",
            "('go', 'c#', 'vb')\n",
            "c#\n"
          ]
        }
      ]
    },
    {
      "cell_type": "markdown",
      "source": [
        "## 字典(dictionary - dict)為帶有鍵值(key)的串列(list)"
      ],
      "metadata": {
        "id": "qCUhfhECgQvN"
      }
    },
    {
      "cell_type": "code",
      "source": [
        "a_dict={0:'go',1:'c#',2:'vb'}\n",
        "print(a_dict)\n",
        "print(a_dict[0])\n",
        "b_dict={'name':'tony','sex':'Male','sid':'B09000000'}\n",
        "print(b_dict['sid'])"
      ],
      "metadata": {
        "colab": {
          "base_uri": "https://localhost:8080/"
        },
        "id": "kw7USxiHKb_7",
        "outputId": "5f5e3ec3-4dba-4ea1-f712-36f56fc18ba5"
      },
      "execution_count": null,
      "outputs": [
        {
          "output_type": "stream",
          "name": "stdout",
          "text": [
            "{0: 'go', 1: 'c#', 2: 'vb'}\n",
            "go\n",
            "B09000000\n"
          ]
        }
      ]
    },
    {
      "cell_type": "code",
      "source": [
        "a_dict={0:'go',1:'c#',2:'vb'}\n",
        "print(a_dict)\n",
        "print(a_dict[0])\n",
        "b_dict={'name':'tony','sex':'Male','sid':'B09000000'}\n",
        "print(b_dict['sex'])"
      ],
      "metadata": {
        "colab": {
          "base_uri": "https://localhost:8080/"
        },
        "id": "ilWdQ668PQ7F",
        "outputId": "44b43e13-d197-406e-9590-baa5cb1374cc"
      },
      "execution_count": null,
      "outputs": [
        {
          "output_type": "stream",
          "name": "stdout",
          "text": [
            "{0: 'go', 1: 'c#', 2: 'vb'}\n",
            "go\n",
            "Male\n"
          ]
        }
      ]
    },
    {
      "cell_type": "code",
      "source": [
        "a_dict={0:'go',1:'c#',2:'vb'}\n",
        "print(a_dict)\n",
        "print(a_dict[0])\n",
        "b_dict={'name':'tony','sex':'Male','sid':'B09000000'}\n",
        "print(b_dict['name'])"
      ],
      "metadata": {
        "colab": {
          "base_uri": "https://localhost:8080/"
        },
        "id": "_7UGDwpXPlNg",
        "outputId": "e5808434-59a4-48b7-f0ae-df1fd3d0cba8"
      },
      "execution_count": null,
      "outputs": [
        {
          "output_type": "stream",
          "name": "stdout",
          "text": [
            "{0: 'go', 1: 'c#', 2: 'vb'}\n",
            "go\n",
            "tony\n"
          ]
        }
      ]
    },
    {
      "cell_type": "code",
      "source": [
        "languages = {}\n",
        "languages = {'name':'python', 'version':'3.7'} #索引值(鍵值)可以自訂\n",
        "print(languages['name'])\n",
        "print(languages['version'])\n",
        "a={0:'python', 1:'java', 2:'SQL'}\n",
        "print(a[0])\n",
        "print(a[1])\n",
        "print(a[2])\n",
        "print(languages)\n",
        "print(languages.keys())\n",
        "print(languages.values())\n",
        "print(languages.items())\n",
        "print('name' in languages)"
      ],
      "metadata": {
        "colab": {
          "base_uri": "https://localhost:8080/"
        },
        "id": "pybwBzAPgS-_",
        "outputId": "1620e9ea-f27a-4077-af81-2b3a27f8b340"
      },
      "execution_count": null,
      "outputs": [
        {
          "output_type": "stream",
          "name": "stdout",
          "text": [
            "python\n",
            "3.7\n",
            "python\n",
            "java\n",
            "SQL\n",
            "{'name': 'python', 'version': '3.7'}\n",
            "dict_keys(['name', 'version'])\n",
            "dict_values(['python', '3.7'])\n",
            "dict_items([('name', 'python'), ('version', '3.7')])\n",
            "True\n"
          ]
        }
      ]
    }
  ]
}